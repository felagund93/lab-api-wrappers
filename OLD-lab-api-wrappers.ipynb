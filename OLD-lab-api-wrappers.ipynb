{
 "cells": [
  {
   "cell_type": "markdown",
   "id": "b65b157e",
   "metadata": {},
   "source": [
    "# ![logo_ironhack_blue 7](https://user-images.githubusercontent.com/23629340/40541063-a07a0a8a-601a-11e8-91b5-2f13e4e6b441.png)\n",
    "\n",
    "# Lab | API wrappers - Create your collection of songs & audio features\n",
    "\n",
    "\n",
    "#### Instructions \n",
    "\n",
    "\n",
    "To move forward with the project, you need to create a collection of songs with their audio features - as large as possible! \n",
    "\n",
    "These are the songs that we will cluster. And, later, when the user inputs a song, we will find the cluster to which the song belongs and recommend a song from the same cluster.\n",
    "The more songs you have, the more accurate and diverse recommendations you'll be able to give. Although... you might want to make sure the collected songs are \"curated\" in a certain way. Try to find playlists of songs that are diverse, but also that meet certain standards.\n",
    "\n",
    "The process of sending hundreds or thousands of requests can take some time - it's normal if you have to wait a few minutes (or, if you're ambitious, even hours) to get all the data you need.\n",
    "\n",
    "An idea for collecting as many songs as possible is to start with all the songs of a big, diverse playlist and then go to every artist present in the playlist and grab every song of every album of that artist. The amount of songs you'll be collecting per playlist will grow exponentially!"
   ]
  },
  {
   "cell_type": "code",
   "execution_count": 127,
   "id": "7762a907",
   "metadata": {},
   "outputs": [],
   "source": [
    "import spotipy\n",
    "import pandas as pd\n",
    "from spotipy.oauth2 import SpotifyClientCredentials\n",
    "\n",
    "sp = spotipy.Spotify(auth_manager=SpotifyClientCredentials(client_id=\"84acfa90a4b040b288565c9043c891fc\",\n",
    "                                                           client_secret=\"b2096cde0fb74a10a980ebcd67843f8a\"))"
   ]
  },
  {
   "cell_type": "code",
   "execution_count": 128,
   "id": "8912107a",
   "metadata": {},
   "outputs": [
    {
     "data": {
      "text/plain": [
       "dict_keys(['href', 'items', 'limit', 'next', 'offset', 'previous', 'total'])"
      ]
     },
     "execution_count": 128,
     "metadata": {},
     "output_type": "execute_result"
    }
   ],
   "source": [
    "playlist = sp.user_playlist_tracks(\"turgon1993\", \"44sPcoQ10on4NGGNtvsjI4\")\n",
    "playlist.keys()\n",
    "#playlist['total']"
   ]
  },
  {
   "cell_type": "markdown",
   "id": "0f734cd5",
   "metadata": {},
   "source": [
    "We created the dictionary \"Playlist\". It is a dictionary which contains all the information from the playlist I requested, in a JSON format."
   ]
  },
  {
   "cell_type": "code",
   "execution_count": 5,
   "id": "c53e4200",
   "metadata": {},
   "outputs": [
    {
     "data": {
      "text/plain": [
       "91"
      ]
     },
     "execution_count": 5,
     "metadata": {},
     "output_type": "execute_result"
    }
   ],
   "source": [
    "len(playlist['items']) "
   ]
  },
  {
   "cell_type": "markdown",
   "id": "77ee51ca",
   "metadata": {},
   "source": [
    "We are interested in the items, which are the tracks in the playlist."
   ]
  },
  {
   "cell_type": "code",
   "execution_count": 17,
   "id": "c6b3f385",
   "metadata": {},
   "outputs": [
    {
     "data": {
      "text/plain": [
       "'Under Pressure - Remastered 2011'"
      ]
     },
     "execution_count": 17,
     "metadata": {},
     "output_type": "execute_result"
    }
   ],
   "source": [
    "results = sp.user_playlist_tracks(\"turgon1993\", \"44sPcoQ10on4NGGNtvsjI4\")\n",
    "tracks = results['items']\n",
    "\n",
    "while results['next']:\n",
    "    results = sp.next(results)\n",
    "    tracks.extend(results['items'])\n",
    "\n",
    "#This while loop iterates over the playlist for every track \n",
    "#and appends the information of the tracks to the tracks list\n",
    "\n",
    "#The tracks list is a list which contains different dictionaries\n",
    "\n",
    "#One can access to the song titles like this:    \n",
    "tracks[0]['track']['name']"
   ]
  },
  {
   "cell_type": "code",
   "execution_count": 18,
   "id": "6e87ff1c",
   "metadata": {},
   "outputs": [
    {
     "data": {
      "text/plain": [
       "91"
      ]
     },
     "execution_count": 18,
     "metadata": {},
     "output_type": "execute_result"
    }
   ],
   "source": [
    "len(tracks)"
   ]
  },
  {
   "cell_type": "code",
   "execution_count": 24,
   "id": "188cb7c5",
   "metadata": {},
   "outputs": [
    {
     "data": {
      "text/plain": [
       "[{'external_urls': {'spotify': 'https://open.spotify.com/artist/1dfeR4HaWDbWqFHLkxsg1d'},\n",
       "  'href': 'https://api.spotify.com/v1/artists/1dfeR4HaWDbWqFHLkxsg1d',\n",
       "  'id': '1dfeR4HaWDbWqFHLkxsg1d',\n",
       "  'name': 'Queen',\n",
       "  'type': 'artist',\n",
       "  'uri': 'spotify:artist:1dfeR4HaWDbWqFHLkxsg1d'},\n",
       " {'external_urls': {'spotify': 'https://open.spotify.com/artist/0oSGxfWSnnOXhD2fKuz2Gy'},\n",
       "  'href': 'https://api.spotify.com/v1/artists/0oSGxfWSnnOXhD2fKuz2Gy',\n",
       "  'id': '0oSGxfWSnnOXhD2fKuz2Gy',\n",
       "  'name': 'David Bowie',\n",
       "  'type': 'artist',\n",
       "  'uri': 'spotify:artist:0oSGxfWSnnOXhD2fKuz2Gy'}]"
      ]
     },
     "execution_count": 24,
     "metadata": {},
     "output_type": "execute_result"
    }
   ],
   "source": [
    "#We get the artists participating in a song this way:\n",
    "tracks[0]['track']['artists']"
   ]
  },
  {
   "cell_type": "code",
   "execution_count": 37,
   "id": "a9fbb36b",
   "metadata": {},
   "outputs": [],
   "source": [
    "#Manually get all the songs from the playlist\n",
    "song_names=[]\n",
    "i=0\n",
    "\n",
    "while i < len(tracks):\n",
    "    song_names.append(tracks[i]['track']['name'])\n",
    "    i+=1\n",
    "    \n",
    "#song_names"
   ]
  },
  {
   "cell_type": "markdown",
   "id": "4c451473",
   "metadata": {},
   "source": [
    "### Get info using functions"
   ]
  },
  {
   "cell_type": "code",
   "execution_count": 28,
   "id": "1669572d",
   "metadata": {},
   "outputs": [],
   "source": [
    "username=\"turgon1993\"\n",
    "playlist_id=\"44sPcoQ10on4NGGNtvsjI4\""
   ]
  },
  {
   "cell_type": "code",
   "execution_count": 29,
   "id": "ac0311d4",
   "metadata": {},
   "outputs": [],
   "source": [
    "def get_playlist_tracks(username, playlist_id):\n",
    "    \n",
    "    results = sp.user_playlist_tracks(username, playlist_id)\n",
    "    tracks = results['items']\n",
    "    \n",
    "    while results['next']:\n",
    "        results = sp.next(results)\n",
    "        tracks.extend(results['items'])\n",
    "    \n",
    "    return tracks"
   ]
  },
  {
   "cell_type": "code",
   "execution_count": 38,
   "id": "74a66f97",
   "metadata": {},
   "outputs": [],
   "source": [
    "#get_playlist_tracks(username, playlist_id)"
   ]
  },
  {
   "cell_type": "code",
   "execution_count": 39,
   "id": "0809201f",
   "metadata": {},
   "outputs": [],
   "source": [
    "def get_playlist_tracklist(username, playlist_id):\n",
    "    \n",
    "    results = sp.user_playlist_tracks(username, playlist_id)\n",
    "    tracks = results['items']\n",
    "    \n",
    "    while results['next']:\n",
    "        results = sp.next(results)\n",
    "        tracks.extend(results['items'])\n",
    "        \n",
    "    song_names=[]\n",
    "    i=0\n",
    "\n",
    "    while i < len(tracks):\n",
    "        song_names.append(tracks[i]['track']['name'])\n",
    "        i+=1\n",
    "    \n",
    "    return song_names"
   ]
  },
  {
   "cell_type": "code",
   "execution_count": 41,
   "id": "75b4add9",
   "metadata": {},
   "outputs": [],
   "source": [
    "#get_playlist_tracklist(username, playlist_id)"
   ]
  },
  {
   "cell_type": "code",
   "execution_count": 31,
   "id": "58bdf74c",
   "metadata": {},
   "outputs": [],
   "source": [
    "def get_artists_from_playlist(username,playlist_id):\n",
    "    \n",
    "    tracks_from_playlist = get_playlist_tracks(username, playlist_id)\n",
    "    \n",
    "    artists = []\n",
    "    \n",
    "    for track in tracks_from_playlist:\n",
    "        artists_info = track['track']['artists']\n",
    "        \n",
    "        for artist_info in artists_info:\n",
    "            artists.append(artist_info['name'])\n",
    "    \n",
    "    return list(set(artists))"
   ]
  },
  {
   "cell_type": "code",
   "execution_count": 36,
   "id": "82fe0cf9",
   "metadata": {},
   "outputs": [
    {
     "data": {
      "text/plain": [
       "68"
      ]
     },
     "execution_count": 36,
     "metadata": {},
     "output_type": "execute_result"
    }
   ],
   "source": [
    "artists_playlist=get_artists_from_playlist(username,playlist_id)\n",
    "len(artists_playlist)"
   ]
  },
  {
   "cell_type": "code",
   "execution_count": 33,
   "id": "6745282d",
   "metadata": {},
   "outputs": [],
   "source": [
    "def get_artists_ids_from_playlist(username,playlist_id):\n",
    "    \n",
    "    tracks_from_playlist = get_playlist_tracks(username, playlist_id)\n",
    "    \n",
    "    artists_ids = []\n",
    "    \n",
    "    for track in tracks_from_playlist:\n",
    "        artists_info = track['track']['artists']\n",
    "        \n",
    "        for artist_info in artists_info:\n",
    "            artists_ids.append(artist_info['id'])\n",
    "            \n",
    "    return list(set(artists_ids))"
   ]
  },
  {
   "cell_type": "code",
   "execution_count": 42,
   "id": "1e73f1b2",
   "metadata": {},
   "outputs": [],
   "source": [
    "#get_artists_ids_from_playlist(username,playlist_id)"
   ]
  },
  {
   "cell_type": "markdown",
   "id": "47594e58",
   "metadata": {},
   "source": [
    "Now we have the list of artists in a playlist. Next step is to find all songs from those artists."
   ]
  },
  {
   "cell_type": "code",
   "execution_count": 43,
   "id": "ecd2c30b",
   "metadata": {},
   "outputs": [],
   "source": [
    "id_from_playlist=get_artists_ids_from_playlist(username,playlist_id)"
   ]
  },
  {
   "cell_type": "code",
   "execution_count": 44,
   "id": "212d7dd4",
   "metadata": {},
   "outputs": [
    {
     "data": {
      "text/plain": [
       "'07XSN3sPlIlB2L2XNcTwJw'"
      ]
     },
     "execution_count": 44,
     "metadata": {},
     "output_type": "execute_result"
    }
   ],
   "source": [
    "id_from_playlist[0]"
   ]
  },
  {
   "cell_type": "code",
   "execution_count": 48,
   "id": "ddec2942",
   "metadata": {},
   "outputs": [],
   "source": [
    "uri_=\"spotify:artist:\"+id_from_playlist[0]"
   ]
  },
  {
   "cell_type": "code",
   "execution_count": 71,
   "id": "1067ed37",
   "metadata": {},
   "outputs": [],
   "source": [
    "artistAlbums = sp.artist_albums(uri_)\n",
    "artistAlbums['items'][1]['name']\n",
    "\n",
    "albums=[]\n",
    "album_ids=[]\n",
    "i=0\n",
    "while i < len(artistAlbums['items']):\n",
    "    albums.append(artistAlbums['items'][i]['name'])\n",
    "    album_ids.append(artistAlbums['items'][i]['id'])\n",
    "    i+=1"
   ]
  },
  {
   "cell_type": "markdown",
   "id": "33915b8f",
   "metadata": {},
   "source": [
    "Now we can see all the albums from a single artist:"
   ]
  },
  {
   "cell_type": "code",
   "execution_count": 63,
   "id": "da923ac6",
   "metadata": {},
   "outputs": [
    {
     "data": {
      "text/plain": [
       "['Destroyer (45th Anniversary Super Deluxe)',\n",
       " 'KISS Off The Soundboard: Tokyo 2001 (Live At Tokyo Dome, Japan 3/13/2001)',\n",
       " 'KISS Off The Soundboard: Tokyo 2001 (Live)',\n",
       " 'Monster',\n",
       " 'Monster',\n",
       " 'Monster',\n",
       " 'Alive! 1975-2000',\n",
       " 'Alive: The Millennium Concert',\n",
       " 'Alive: The Millennium Concert',\n",
       " 'Symphony: Alive IV',\n",
       " 'Symphony: Alive IV',\n",
       " 'Symphony: Alive IV',\n",
       " 'KISS Box Set',\n",
       " 'Psycho Circus',\n",
       " 'Psycho Circus',\n",
       " 'Carnival Of Souls: The Final Sessions',\n",
       " 'Carnival Of Souls: The Final Sessions',\n",
       " 'MTV Unplugged',\n",
       " 'MTV Unplugged',\n",
       " 'Alive III']"
      ]
     },
     "execution_count": 63,
     "metadata": {},
     "output_type": "execute_result"
    }
   ],
   "source": [
    "albums"
   ]
  },
  {
   "cell_type": "code",
   "execution_count": 72,
   "id": "7acb3cb6",
   "metadata": {},
   "outputs": [
    {
     "data": {
      "text/plain": [
       "'6x60FPv5I0t19eqKx76bv9'"
      ]
     },
     "execution_count": 72,
     "metadata": {},
     "output_type": "execute_result"
    }
   ],
   "source": [
    "album_ids[1]"
   ]
  },
  {
   "cell_type": "code",
   "execution_count": 77,
   "id": "f6970435",
   "metadata": {},
   "outputs": [
    {
     "data": {
      "text/plain": [
       "['3KCj9jctvenpacWp9eWsJI',\n",
       " '0leY2a4PFdVmZmTLszWY9B',\n",
       " '2zK0pXoWSUE7qlqWfh3hGN',\n",
       " '4FexXd7TDJ0mavesN9FIfR',\n",
       " '2QuI8OhH9nlFdUVb1reiSO',\n",
       " '3TrGudXYaVjzecoskfeBLg',\n",
       " '7l5EzQGZcKBRWqkzuusMIQ',\n",
       " '1TC5R51aA9YYWbcs20s4Li',\n",
       " '1qxLw4umgCtbXnodB1I5Xs',\n",
       " '1ooGiGW6z9BpTtJqmIqBns',\n",
       " '1WvSJEcIt2DhmL6PhBL1qL',\n",
       " '2B5e7nVUYXJfP1FdmvqQ1K',\n",
       " '7gkY7sHevG9XK4cRCsAVg2',\n",
       " '0cb5cP6LZ9uZYAIpC4zqjL',\n",
       " '29Xq4rBtAT1Vew1fr9xqE5',\n",
       " '5BMPjPOLwNceFkBeYQMJXm',\n",
       " '37Khm6ADp0zgiMKPVxhtBm',\n",
       " '5hRYVKUuQTSC21PMMumNPX',\n",
       " '3vwD37cDKBGv2va6lczTRW',\n",
       " '6ARXXXmlJxy346utWmmYxq',\n",
       " '7IxmvQKuXm5Rk6EcTzFXaT']"
      ]
     },
     "execution_count": 77,
     "metadata": {},
     "output_type": "execute_result"
    }
   ],
   "source": [
    "album_1=sp.album_tracks(album_ids[1])['items']\n",
    "album_tracks=[]\n",
    "album_track_ids=[]\n",
    "i=0\n",
    "while i < len(album_1):\n",
    "    album_tracks.append(album_1[i]['name'])\n",
    "    album_track_ids.append(album_1[i]['id'])\n",
    "    i+=1\n",
    "    \n",
    "album_track_ids"
   ]
  },
  {
   "cell_type": "code",
   "execution_count": 111,
   "id": "47afbc65",
   "metadata": {},
   "outputs": [
    {
     "data": {
      "text/plain": [
       "[{'danceability': 0.181,\n",
       "  'energy': 0.98,\n",
       "  'key': 0,\n",
       "  'loudness': -5.571,\n",
       "  'mode': 0,\n",
       "  'speechiness': 0.154,\n",
       "  'acousticness': 0.00367,\n",
       "  'instrumentalness': 0.362,\n",
       "  'liveness': 0.691,\n",
       "  'valence': 0.219,\n",
       "  'tempo': 176.289,\n",
       "  'type': 'audio_features',\n",
       "  'id': '3KCj9jctvenpacWp9eWsJI',\n",
       "  'uri': 'spotify:track:3KCj9jctvenpacWp9eWsJI',\n",
       "  'track_href': 'https://api.spotify.com/v1/tracks/3KCj9jctvenpacWp9eWsJI',\n",
       "  'analysis_url': 'https://api.spotify.com/v1/audio-analysis/3KCj9jctvenpacWp9eWsJI',\n",
       "  'duration_ms': 298467,\n",
       "  'time_signature': 4},\n",
       " {'danceability': 0.289,\n",
       "  'energy': 0.958,\n",
       "  'key': 6,\n",
       "  'loudness': -6.704,\n",
       "  'mode': 0,\n",
       "  'speechiness': 0.095,\n",
       "  'acousticness': 0.00485,\n",
       "  'instrumentalness': 0.0244,\n",
       "  'liveness': 0.872,\n",
       "  'valence': 0.3,\n",
       "  'tempo': 131.89,\n",
       "  'type': 'audio_features',\n",
       "  'id': '0leY2a4PFdVmZmTLszWY9B',\n",
       "  'uri': 'spotify:track:0leY2a4PFdVmZmTLszWY9B',\n",
       "  'track_href': 'https://api.spotify.com/v1/tracks/0leY2a4PFdVmZmTLszWY9B',\n",
       "  'analysis_url': 'https://api.spotify.com/v1/audio-analysis/0leY2a4PFdVmZmTLszWY9B',\n",
       "  'duration_ms': 326173,\n",
       "  'time_signature': 4},\n",
       " {'danceability': 0.362,\n",
       "  'energy': 0.914,\n",
       "  'key': 3,\n",
       "  'loudness': -6.604,\n",
       "  'mode': 1,\n",
       "  'speechiness': 0.0749,\n",
       "  'acousticness': 0.0713,\n",
       "  'instrumentalness': 1.54e-05,\n",
       "  'liveness': 0.681,\n",
       "  'valence': 0.433,\n",
       "  'tempo': 135.286,\n",
       "  'type': 'audio_features',\n",
       "  'id': '2zK0pXoWSUE7qlqWfh3hGN',\n",
       "  'uri': 'spotify:track:2zK0pXoWSUE7qlqWfh3hGN',\n",
       "  'track_href': 'https://api.spotify.com/v1/tracks/2zK0pXoWSUE7qlqWfh3hGN',\n",
       "  'analysis_url': 'https://api.spotify.com/v1/audio-analysis/2zK0pXoWSUE7qlqWfh3hGN',\n",
       "  'duration_ms': 236507,\n",
       "  'time_signature': 4},\n",
       " {'danceability': 0.32,\n",
       "  'energy': 0.911,\n",
       "  'key': 11,\n",
       "  'loudness': -6.613,\n",
       "  'mode': 1,\n",
       "  'speechiness': 0.0846,\n",
       "  'acousticness': 0.0238,\n",
       "  'instrumentalness': 0.00102,\n",
       "  'liveness': 0.766,\n",
       "  'valence': 0.358,\n",
       "  'tempo': 130.005,\n",
       "  'type': 'audio_features',\n",
       "  'id': '4FexXd7TDJ0mavesN9FIfR',\n",
       "  'uri': 'spotify:track:4FexXd7TDJ0mavesN9FIfR',\n",
       "  'track_href': 'https://api.spotify.com/v1/tracks/4FexXd7TDJ0mavesN9FIfR',\n",
       "  'analysis_url': 'https://api.spotify.com/v1/audio-analysis/4FexXd7TDJ0mavesN9FIfR',\n",
       "  'duration_ms': 265600,\n",
       "  'time_signature': 4},\n",
       " {'danceability': 0.437,\n",
       "  'energy': 0.95,\n",
       "  'key': 3,\n",
       "  'loudness': -6.29,\n",
       "  'mode': 1,\n",
       "  'speechiness': 0.0538,\n",
       "  'acousticness': 0.0538,\n",
       "  'instrumentalness': 1.49e-05,\n",
       "  'liveness': 0.504,\n",
       "  'valence': 0.326,\n",
       "  'tempo': 86.444,\n",
       "  'type': 'audio_features',\n",
       "  'id': '2QuI8OhH9nlFdUVb1reiSO',\n",
       "  'uri': 'spotify:track:2QuI8OhH9nlFdUVb1reiSO',\n",
       "  'track_href': 'https://api.spotify.com/v1/tracks/2QuI8OhH9nlFdUVb1reiSO',\n",
       "  'analysis_url': 'https://api.spotify.com/v1/audio-analysis/2QuI8OhH9nlFdUVb1reiSO',\n",
       "  'duration_ms': 243000,\n",
       "  'time_signature': 4},\n",
       " {'danceability': 0.316,\n",
       "  'energy': 0.953,\n",
       "  'key': 1,\n",
       "  'loudness': -5.774,\n",
       "  'mode': 1,\n",
       "  'speechiness': 0.186,\n",
       "  'acousticness': 0.0552,\n",
       "  'instrumentalness': 0.000585,\n",
       "  'liveness': 0.607,\n",
       "  'valence': 0.228,\n",
       "  'tempo': 125.808,\n",
       "  'type': 'audio_features',\n",
       "  'id': '3TrGudXYaVjzecoskfeBLg',\n",
       "  'uri': 'spotify:track:3TrGudXYaVjzecoskfeBLg',\n",
       "  'track_href': 'https://api.spotify.com/v1/tracks/3TrGudXYaVjzecoskfeBLg',\n",
       "  'analysis_url': 'https://api.spotify.com/v1/audio-analysis/3TrGudXYaVjzecoskfeBLg',\n",
       "  'duration_ms': 344253,\n",
       "  'time_signature': 4},\n",
       " {'danceability': 0.493,\n",
       "  'energy': 0.935,\n",
       "  'key': 8,\n",
       "  'loudness': -6.396,\n",
       "  'mode': 1,\n",
       "  'speechiness': 0.0562,\n",
       "  'acousticness': 0.0149,\n",
       "  'instrumentalness': 0.108,\n",
       "  'liveness': 0.605,\n",
       "  'valence': 0.499,\n",
       "  'tempo': 127.096,\n",
       "  'type': 'audio_features',\n",
       "  'id': '7l5EzQGZcKBRWqkzuusMIQ',\n",
       "  'uri': 'spotify:track:7l5EzQGZcKBRWqkzuusMIQ',\n",
       "  'track_href': 'https://api.spotify.com/v1/tracks/7l5EzQGZcKBRWqkzuusMIQ',\n",
       "  'analysis_url': 'https://api.spotify.com/v1/audio-analysis/7l5EzQGZcKBRWqkzuusMIQ',\n",
       "  'duration_ms': 298120,\n",
       "  'time_signature': 4},\n",
       " {'danceability': 0.321,\n",
       "  'energy': 0.942,\n",
       "  'key': 8,\n",
       "  'loudness': -6.589,\n",
       "  'mode': 1,\n",
       "  'speechiness': 0.0942,\n",
       "  'acousticness': 0.0787,\n",
       "  'instrumentalness': 4.85e-06,\n",
       "  'liveness': 0.782,\n",
       "  'valence': 0.34,\n",
       "  'tempo': 128.828,\n",
       "  'type': 'audio_features',\n",
       "  'id': '1TC5R51aA9YYWbcs20s4Li',\n",
       "  'uri': 'spotify:track:1TC5R51aA9YYWbcs20s4Li',\n",
       "  'track_href': 'https://api.spotify.com/v1/tracks/1TC5R51aA9YYWbcs20s4Li',\n",
       "  'analysis_url': 'https://api.spotify.com/v1/audio-analysis/1TC5R51aA9YYWbcs20s4Li',\n",
       "  'duration_ms': 249973,\n",
       "  'time_signature': 4},\n",
       " {'danceability': 0.412,\n",
       "  'energy': 0.969,\n",
       "  'key': 11,\n",
       "  'loudness': -5.564,\n",
       "  'mode': 1,\n",
       "  'speechiness': 0.107,\n",
       "  'acousticness': 0.021,\n",
       "  'instrumentalness': 0.00256,\n",
       "  'liveness': 0.713,\n",
       "  'valence': 0.37,\n",
       "  'tempo': 128.799,\n",
       "  'type': 'audio_features',\n",
       "  'id': '1qxLw4umgCtbXnodB1I5Xs',\n",
       "  'uri': 'spotify:track:1qxLw4umgCtbXnodB1I5Xs',\n",
       "  'track_href': 'https://api.spotify.com/v1/tracks/1qxLw4umgCtbXnodB1I5Xs',\n",
       "  'analysis_url': 'https://api.spotify.com/v1/audio-analysis/1qxLw4umgCtbXnodB1I5Xs',\n",
       "  'duration_ms': 277280,\n",
       "  'time_signature': 4},\n",
       " {'danceability': 0.299,\n",
       "  'energy': 0.925,\n",
       "  'key': 1,\n",
       "  'loudness': -6.831,\n",
       "  'mode': 1,\n",
       "  'speechiness': 0.063,\n",
       "  'acousticness': 0.00344,\n",
       "  'instrumentalness': 0.0764,\n",
       "  'liveness': 0.855,\n",
       "  'valence': 0.347,\n",
       "  'tempo': 143.178,\n",
       "  'type': 'audio_features',\n",
       "  'id': '1ooGiGW6z9BpTtJqmIqBns',\n",
       "  'uri': 'spotify:track:1ooGiGW6z9BpTtJqmIqBns',\n",
       "  'track_href': 'https://api.spotify.com/v1/tracks/1ooGiGW6z9BpTtJqmIqBns',\n",
       "  'analysis_url': 'https://api.spotify.com/v1/audio-analysis/1ooGiGW6z9BpTtJqmIqBns',\n",
       "  'duration_ms': 406013,\n",
       "  'time_signature': 4},\n",
       " {'danceability': 0.221,\n",
       "  'energy': 0.954,\n",
       "  'key': 1,\n",
       "  'loudness': -7.249,\n",
       "  'mode': 1,\n",
       "  'speechiness': 0.0981,\n",
       "  'acousticness': 0.0189,\n",
       "  'instrumentalness': 0.763,\n",
       "  'liveness': 0.949,\n",
       "  'valence': 0.247,\n",
       "  'tempo': 128.067,\n",
       "  'type': 'audio_features',\n",
       "  'id': '1WvSJEcIt2DhmL6PhBL1qL',\n",
       "  'uri': 'spotify:track:1WvSJEcIt2DhmL6PhBL1qL',\n",
       "  'track_href': 'https://api.spotify.com/v1/tracks/1WvSJEcIt2DhmL6PhBL1qL',\n",
       "  'analysis_url': 'https://api.spotify.com/v1/audio-analysis/1WvSJEcIt2DhmL6PhBL1qL',\n",
       "  'duration_ms': 796080,\n",
       "  'time_signature': 4},\n",
       " {'danceability': 0.349,\n",
       "  'energy': 0.951,\n",
       "  'key': 10,\n",
       "  'loudness': -4.955,\n",
       "  'mode': 0,\n",
       "  'speechiness': 0.0704,\n",
       "  'acousticness': 0.00472,\n",
       "  'instrumentalness': 0.148,\n",
       "  'liveness': 0.869,\n",
       "  'valence': 0.242,\n",
       "  'tempo': 124.743,\n",
       "  'type': 'audio_features',\n",
       "  'id': '2B5e7nVUYXJfP1FdmvqQ1K',\n",
       "  'uri': 'spotify:track:2B5e7nVUYXJfP1FdmvqQ1K',\n",
       "  'track_href': 'https://api.spotify.com/v1/tracks/2B5e7nVUYXJfP1FdmvqQ1K',\n",
       "  'analysis_url': 'https://api.spotify.com/v1/audio-analysis/2B5e7nVUYXJfP1FdmvqQ1K',\n",
       "  'duration_ms': 351387,\n",
       "  'time_signature': 4},\n",
       " {'danceability': 0.452,\n",
       "  'energy': 0.876,\n",
       "  'key': 1,\n",
       "  'loudness': -6.343,\n",
       "  'mode': 1,\n",
       "  'speechiness': 0.0436,\n",
       "  'acousticness': 0.0065,\n",
       "  'instrumentalness': 0.0403,\n",
       "  'liveness': 0.963,\n",
       "  'valence': 0.401,\n",
       "  'tempo': 126.472,\n",
       "  'type': 'audio_features',\n",
       "  'id': '7gkY7sHevG9XK4cRCsAVg2',\n",
       "  'uri': 'spotify:track:7gkY7sHevG9XK4cRCsAVg2',\n",
       "  'track_href': 'https://api.spotify.com/v1/tracks/7gkY7sHevG9XK4cRCsAVg2',\n",
       "  'analysis_url': 'https://api.spotify.com/v1/audio-analysis/7gkY7sHevG9XK4cRCsAVg2',\n",
       "  'duration_ms': 352307,\n",
       "  'time_signature': 4},\n",
       " {'danceability': 0.334,\n",
       "  'energy': 0.948,\n",
       "  'key': 8,\n",
       "  'loudness': -7.898,\n",
       "  'mode': 1,\n",
       "  'speechiness': 0.0742,\n",
       "  'acousticness': 0.00156,\n",
       "  'instrumentalness': 0.36,\n",
       "  'liveness': 0.727,\n",
       "  'valence': 0.114,\n",
       "  'tempo': 103.718,\n",
       "  'type': 'audio_features',\n",
       "  'id': '0cb5cP6LZ9uZYAIpC4zqjL',\n",
       "  'uri': 'spotify:track:0cb5cP6LZ9uZYAIpC4zqjL',\n",
       "  'track_href': 'https://api.spotify.com/v1/tracks/0cb5cP6LZ9uZYAIpC4zqjL',\n",
       "  'analysis_url': 'https://api.spotify.com/v1/audio-analysis/0cb5cP6LZ9uZYAIpC4zqjL',\n",
       "  'duration_ms': 579253,\n",
       "  'time_signature': 4},\n",
       " {'danceability': 0.299,\n",
       "  'energy': 0.931,\n",
       "  'key': 1,\n",
       "  'loudness': -6.816,\n",
       "  'mode': 1,\n",
       "  'speechiness': 0.0831,\n",
       "  'acousticness': 0.00636,\n",
       "  'instrumentalness': 0.0257,\n",
       "  'liveness': 0.633,\n",
       "  'valence': 0.406,\n",
       "  'tempo': 123.874,\n",
       "  'type': 'audio_features',\n",
       "  'id': '29Xq4rBtAT1Vew1fr9xqE5',\n",
       "  'uri': 'spotify:track:29Xq4rBtAT1Vew1fr9xqE5',\n",
       "  'track_href': 'https://api.spotify.com/v1/tracks/29Xq4rBtAT1Vew1fr9xqE5',\n",
       "  'analysis_url': 'https://api.spotify.com/v1/audio-analysis/29Xq4rBtAT1Vew1fr9xqE5',\n",
       "  'duration_ms': 407120,\n",
       "  'time_signature': 4},\n",
       " {'danceability': 0.399,\n",
       "  'energy': 0.883,\n",
       "  'key': 8,\n",
       "  'loudness': -8.158,\n",
       "  'mode': 1,\n",
       "  'speechiness': 0.087,\n",
       "  'acousticness': 0.0213,\n",
       "  'instrumentalness': 0.0253,\n",
       "  'liveness': 0.754,\n",
       "  'valence': 0.161,\n",
       "  'tempo': 132.437,\n",
       "  'type': 'audio_features',\n",
       "  'id': '5BMPjPOLwNceFkBeYQMJXm',\n",
       "  'uri': 'spotify:track:5BMPjPOLwNceFkBeYQMJXm',\n",
       "  'track_href': 'https://api.spotify.com/v1/tracks/5BMPjPOLwNceFkBeYQMJXm',\n",
       "  'analysis_url': 'https://api.spotify.com/v1/audio-analysis/5BMPjPOLwNceFkBeYQMJXm',\n",
       "  'duration_ms': 620560,\n",
       "  'time_signature': 4},\n",
       " {'danceability': 0.247,\n",
       "  'energy': 0.967,\n",
       "  'key': 3,\n",
       "  'loudness': -6.622,\n",
       "  'mode': 0,\n",
       "  'speechiness': 0.0538,\n",
       "  'acousticness': 0.00315,\n",
       "  'instrumentalness': 0.871,\n",
       "  'liveness': 0.893,\n",
       "  'valence': 0.39,\n",
       "  'tempo': 144.834,\n",
       "  'type': 'audio_features',\n",
       "  'id': '37Khm6ADp0zgiMKPVxhtBm',\n",
       "  'uri': 'spotify:track:37Khm6ADp0zgiMKPVxhtBm',\n",
       "  'track_href': 'https://api.spotify.com/v1/tracks/37Khm6ADp0zgiMKPVxhtBm',\n",
       "  'analysis_url': 'https://api.spotify.com/v1/audio-analysis/37Khm6ADp0zgiMKPVxhtBm',\n",
       "  'duration_ms': 299747,\n",
       "  'time_signature': 4},\n",
       " {'danceability': 0.246,\n",
       "  'energy': 0.408,\n",
       "  'key': 6,\n",
       "  'loudness': -12.509,\n",
       "  'mode': 1,\n",
       "  'speechiness': 0.0511,\n",
       "  'acousticness': 0.921,\n",
       "  'instrumentalness': 0.00751,\n",
       "  'liveness': 0.718,\n",
       "  'valence': 0.086,\n",
       "  'tempo': 143.506,\n",
       "  'type': 'audio_features',\n",
       "  'id': '5hRYVKUuQTSC21PMMumNPX',\n",
       "  'uri': 'spotify:track:5hRYVKUuQTSC21PMMumNPX',\n",
       "  'track_href': 'https://api.spotify.com/v1/tracks/5hRYVKUuQTSC21PMMumNPX',\n",
       "  'analysis_url': 'https://api.spotify.com/v1/audio-analysis/5hRYVKUuQTSC21PMMumNPX',\n",
       "  'duration_ms': 253293,\n",
       "  'time_signature': 3},\n",
       " {'danceability': 0.242,\n",
       "  'energy': 0.918,\n",
       "  'key': 1,\n",
       "  'loudness': -7.397,\n",
       "  'mode': 1,\n",
       "  'speechiness': 0.089,\n",
       "  'acousticness': 0.0105,\n",
       "  'instrumentalness': 0.0744,\n",
       "  'liveness': 0.933,\n",
       "  'valence': 0.121,\n",
       "  'tempo': 131.931,\n",
       "  'type': 'audio_features',\n",
       "  'id': '3vwD37cDKBGv2va6lczTRW',\n",
       "  'uri': 'spotify:track:3vwD37cDKBGv2va6lczTRW',\n",
       "  'track_href': 'https://api.spotify.com/v1/tracks/3vwD37cDKBGv2va6lczTRW',\n",
       "  'analysis_url': 'https://api.spotify.com/v1/audio-analysis/3vwD37cDKBGv2va6lczTRW',\n",
       "  'duration_ms': 415813,\n",
       "  'time_signature': 3},\n",
       " {'danceability': 0.441,\n",
       "  'energy': 0.896,\n",
       "  'key': 8,\n",
       "  'loudness': -6.864,\n",
       "  'mode': 1,\n",
       "  'speechiness': 0.0606,\n",
       "  'acousticness': 0.0226,\n",
       "  'instrumentalness': 0.127,\n",
       "  'liveness': 0.291,\n",
       "  'valence': 0.404,\n",
       "  'tempo': 128.4,\n",
       "  'type': 'audio_features',\n",
       "  'id': '6ARXXXmlJxy346utWmmYxq',\n",
       "  'uri': 'spotify:track:6ARXXXmlJxy346utWmmYxq',\n",
       "  'track_href': 'https://api.spotify.com/v1/tracks/6ARXXXmlJxy346utWmmYxq',\n",
       "  'analysis_url': 'https://api.spotify.com/v1/audio-analysis/6ARXXXmlJxy346utWmmYxq',\n",
       "  'duration_ms': 364880,\n",
       "  'time_signature': 4},\n",
       " {'danceability': 0.271,\n",
       "  'energy': 0.974,\n",
       "  'key': 8,\n",
       "  'loudness': -6.613,\n",
       "  'mode': 1,\n",
       "  'speechiness': 0.159,\n",
       "  'acousticness': 0.0162,\n",
       "  'instrumentalness': 0.00821,\n",
       "  'liveness': 0.655,\n",
       "  'valence': 0.236,\n",
       "  'tempo': 146.068,\n",
       "  'type': 'audio_features',\n",
       "  'id': '7IxmvQKuXm5Rk6EcTzFXaT',\n",
       "  'uri': 'spotify:track:7IxmvQKuXm5Rk6EcTzFXaT',\n",
       "  'track_href': 'https://api.spotify.com/v1/tracks/7IxmvQKuXm5Rk6EcTzFXaT',\n",
       "  'analysis_url': 'https://api.spotify.com/v1/audio-analysis/7IxmvQKuXm5Rk6EcTzFXaT',\n",
       "  'duration_ms': 408427,\n",
       "  'time_signature': 4}]"
      ]
     },
     "execution_count": 111,
     "metadata": {},
     "output_type": "execute_result"
    }
   ],
   "source": [
    "sp.audio_features(album_track_ids)"
   ]
  },
  {
   "cell_type": "code",
   "execution_count": 82,
   "id": "3e5992bc",
   "metadata": {},
   "outputs": [
    {
     "data": {
      "text/html": [
       "<div>\n",
       "<style scoped>\n",
       "    .dataframe tbody tr th:only-of-type {\n",
       "        vertical-align: middle;\n",
       "    }\n",
       "\n",
       "    .dataframe tbody tr th {\n",
       "        vertical-align: top;\n",
       "    }\n",
       "\n",
       "    .dataframe thead th {\n",
       "        text-align: right;\n",
       "    }\n",
       "</style>\n",
       "<table border=\"1\" class=\"dataframe\">\n",
       "  <thead>\n",
       "    <tr style=\"text-align: right;\">\n",
       "      <th></th>\n",
       "      <th>danceability</th>\n",
       "      <th>energy</th>\n",
       "      <th>key</th>\n",
       "      <th>loudness</th>\n",
       "      <th>mode</th>\n",
       "      <th>speechiness</th>\n",
       "      <th>acousticness</th>\n",
       "      <th>instrumentalness</th>\n",
       "      <th>liveness</th>\n",
       "      <th>valence</th>\n",
       "      <th>tempo</th>\n",
       "      <th>type</th>\n",
       "      <th>id</th>\n",
       "      <th>uri</th>\n",
       "      <th>track_href</th>\n",
       "      <th>analysis_url</th>\n",
       "      <th>duration_ms</th>\n",
       "      <th>time_signature</th>\n",
       "    </tr>\n",
       "  </thead>\n",
       "  <tbody>\n",
       "    <tr>\n",
       "      <th>0</th>\n",
       "      <td>0.181</td>\n",
       "      <td>0.980</td>\n",
       "      <td>0</td>\n",
       "      <td>-5.571</td>\n",
       "      <td>0</td>\n",
       "      <td>0.1540</td>\n",
       "      <td>0.00367</td>\n",
       "      <td>0.362000</td>\n",
       "      <td>0.691</td>\n",
       "      <td>0.219</td>\n",
       "      <td>176.289</td>\n",
       "      <td>audio_features</td>\n",
       "      <td>3KCj9jctvenpacWp9eWsJI</td>\n",
       "      <td>spotify:track:3KCj9jctvenpacWp9eWsJI</td>\n",
       "      <td>https://api.spotify.com/v1/tracks/3KCj9jctvenp...</td>\n",
       "      <td>https://api.spotify.com/v1/audio-analysis/3KCj...</td>\n",
       "      <td>298467</td>\n",
       "      <td>4</td>\n",
       "    </tr>\n",
       "    <tr>\n",
       "      <th>1</th>\n",
       "      <td>0.289</td>\n",
       "      <td>0.958</td>\n",
       "      <td>6</td>\n",
       "      <td>-6.704</td>\n",
       "      <td>0</td>\n",
       "      <td>0.0950</td>\n",
       "      <td>0.00485</td>\n",
       "      <td>0.024400</td>\n",
       "      <td>0.872</td>\n",
       "      <td>0.300</td>\n",
       "      <td>131.890</td>\n",
       "      <td>audio_features</td>\n",
       "      <td>0leY2a4PFdVmZmTLszWY9B</td>\n",
       "      <td>spotify:track:0leY2a4PFdVmZmTLszWY9B</td>\n",
       "      <td>https://api.spotify.com/v1/tracks/0leY2a4PFdVm...</td>\n",
       "      <td>https://api.spotify.com/v1/audio-analysis/0leY...</td>\n",
       "      <td>326173</td>\n",
       "      <td>4</td>\n",
       "    </tr>\n",
       "    <tr>\n",
       "      <th>2</th>\n",
       "      <td>0.362</td>\n",
       "      <td>0.914</td>\n",
       "      <td>3</td>\n",
       "      <td>-6.604</td>\n",
       "      <td>1</td>\n",
       "      <td>0.0749</td>\n",
       "      <td>0.07130</td>\n",
       "      <td>0.000015</td>\n",
       "      <td>0.681</td>\n",
       "      <td>0.433</td>\n",
       "      <td>135.286</td>\n",
       "      <td>audio_features</td>\n",
       "      <td>2zK0pXoWSUE7qlqWfh3hGN</td>\n",
       "      <td>spotify:track:2zK0pXoWSUE7qlqWfh3hGN</td>\n",
       "      <td>https://api.spotify.com/v1/tracks/2zK0pXoWSUE7...</td>\n",
       "      <td>https://api.spotify.com/v1/audio-analysis/2zK0...</td>\n",
       "      <td>236507</td>\n",
       "      <td>4</td>\n",
       "    </tr>\n",
       "    <tr>\n",
       "      <th>3</th>\n",
       "      <td>0.320</td>\n",
       "      <td>0.911</td>\n",
       "      <td>11</td>\n",
       "      <td>-6.613</td>\n",
       "      <td>1</td>\n",
       "      <td>0.0846</td>\n",
       "      <td>0.02380</td>\n",
       "      <td>0.001020</td>\n",
       "      <td>0.766</td>\n",
       "      <td>0.358</td>\n",
       "      <td>130.005</td>\n",
       "      <td>audio_features</td>\n",
       "      <td>4FexXd7TDJ0mavesN9FIfR</td>\n",
       "      <td>spotify:track:4FexXd7TDJ0mavesN9FIfR</td>\n",
       "      <td>https://api.spotify.com/v1/tracks/4FexXd7TDJ0m...</td>\n",
       "      <td>https://api.spotify.com/v1/audio-analysis/4Fex...</td>\n",
       "      <td>265600</td>\n",
       "      <td>4</td>\n",
       "    </tr>\n",
       "    <tr>\n",
       "      <th>4</th>\n",
       "      <td>0.437</td>\n",
       "      <td>0.950</td>\n",
       "      <td>3</td>\n",
       "      <td>-6.290</td>\n",
       "      <td>1</td>\n",
       "      <td>0.0538</td>\n",
       "      <td>0.05380</td>\n",
       "      <td>0.000015</td>\n",
       "      <td>0.504</td>\n",
       "      <td>0.326</td>\n",
       "      <td>86.444</td>\n",
       "      <td>audio_features</td>\n",
       "      <td>2QuI8OhH9nlFdUVb1reiSO</td>\n",
       "      <td>spotify:track:2QuI8OhH9nlFdUVb1reiSO</td>\n",
       "      <td>https://api.spotify.com/v1/tracks/2QuI8OhH9nlF...</td>\n",
       "      <td>https://api.spotify.com/v1/audio-analysis/2QuI...</td>\n",
       "      <td>243000</td>\n",
       "      <td>4</td>\n",
       "    </tr>\n",
       "  </tbody>\n",
       "</table>\n",
       "</div>"
      ],
      "text/plain": [
       "   danceability  energy  key  loudness  mode  speechiness  acousticness  \\\n",
       "0         0.181   0.980    0    -5.571     0       0.1540       0.00367   \n",
       "1         0.289   0.958    6    -6.704     0       0.0950       0.00485   \n",
       "2         0.362   0.914    3    -6.604     1       0.0749       0.07130   \n",
       "3         0.320   0.911   11    -6.613     1       0.0846       0.02380   \n",
       "4         0.437   0.950    3    -6.290     1       0.0538       0.05380   \n",
       "\n",
       "   instrumentalness  liveness  valence    tempo            type  \\\n",
       "0          0.362000     0.691    0.219  176.289  audio_features   \n",
       "1          0.024400     0.872    0.300  131.890  audio_features   \n",
       "2          0.000015     0.681    0.433  135.286  audio_features   \n",
       "3          0.001020     0.766    0.358  130.005  audio_features   \n",
       "4          0.000015     0.504    0.326   86.444  audio_features   \n",
       "\n",
       "                       id                                   uri  \\\n",
       "0  3KCj9jctvenpacWp9eWsJI  spotify:track:3KCj9jctvenpacWp9eWsJI   \n",
       "1  0leY2a4PFdVmZmTLszWY9B  spotify:track:0leY2a4PFdVmZmTLszWY9B   \n",
       "2  2zK0pXoWSUE7qlqWfh3hGN  spotify:track:2zK0pXoWSUE7qlqWfh3hGN   \n",
       "3  4FexXd7TDJ0mavesN9FIfR  spotify:track:4FexXd7TDJ0mavesN9FIfR   \n",
       "4  2QuI8OhH9nlFdUVb1reiSO  spotify:track:2QuI8OhH9nlFdUVb1reiSO   \n",
       "\n",
       "                                          track_href  \\\n",
       "0  https://api.spotify.com/v1/tracks/3KCj9jctvenp...   \n",
       "1  https://api.spotify.com/v1/tracks/0leY2a4PFdVm...   \n",
       "2  https://api.spotify.com/v1/tracks/2zK0pXoWSUE7...   \n",
       "3  https://api.spotify.com/v1/tracks/4FexXd7TDJ0m...   \n",
       "4  https://api.spotify.com/v1/tracks/2QuI8OhH9nlF...   \n",
       "\n",
       "                                        analysis_url  duration_ms  \\\n",
       "0  https://api.spotify.com/v1/audio-analysis/3KCj...       298467   \n",
       "1  https://api.spotify.com/v1/audio-analysis/0leY...       326173   \n",
       "2  https://api.spotify.com/v1/audio-analysis/2zK0...       236507   \n",
       "3  https://api.spotify.com/v1/audio-analysis/4Fex...       265600   \n",
       "4  https://api.spotify.com/v1/audio-analysis/2QuI...       243000   \n",
       "\n",
       "   time_signature  \n",
       "0               4  \n",
       "1               4  \n",
       "2               4  \n",
       "3               4  \n",
       "4               4  "
      ]
     },
     "execution_count": 82,
     "metadata": {},
     "output_type": "execute_result"
    }
   ],
   "source": [
    "pd.DataFrame(sp.audio_features(album_track_ids)).head()"
   ]
  },
  {
   "cell_type": "markdown",
   "id": "ecb47dbc",
   "metadata": {},
   "source": [
    "# New Approach\n",
    "The dataset we'll work with can come from the songs that a certain user has in all of his/her playlists."
   ]
  },
  {
   "cell_type": "code",
   "execution_count": 129,
   "id": "e56c44c0",
   "metadata": {},
   "outputs": [
    {
     "name": "stdout",
     "output_type": "stream",
     "text": [
      "Boletus\n",
      "Resonance\n"
     ]
    }
   ],
   "source": [
    "username=\"turgon1993\"\n",
    "playlist_id=sp.user_playlists(username)['items'][4]['id']\n",
    "playlist_name=sp.user_playlists(username)['items'][4]['name']\n",
    "print(playlist_name)\n",
    "track_name=sp.playlist_tracks(playlist_id)['items'][0]['track']['name']\n",
    "track_id=sp.playlist_tracks(playlist_id)['items'][0]['track']['id']\n",
    "print(track_name)"
   ]
  },
  {
   "cell_type": "code",
   "execution_count": 130,
   "id": "9f82af06",
   "metadata": {},
   "outputs": [
    {
     "data": {
      "text/html": [
       "<div>\n",
       "<style scoped>\n",
       "    .dataframe tbody tr th:only-of-type {\n",
       "        vertical-align: middle;\n",
       "    }\n",
       "\n",
       "    .dataframe tbody tr th {\n",
       "        vertical-align: top;\n",
       "    }\n",
       "\n",
       "    .dataframe thead th {\n",
       "        text-align: right;\n",
       "    }\n",
       "</style>\n",
       "<table border=\"1\" class=\"dataframe\">\n",
       "  <thead>\n",
       "    <tr style=\"text-align: right;\">\n",
       "      <th></th>\n",
       "      <th>danceability</th>\n",
       "      <th>energy</th>\n",
       "      <th>key</th>\n",
       "      <th>loudness</th>\n",
       "      <th>mode</th>\n",
       "      <th>speechiness</th>\n",
       "      <th>acousticness</th>\n",
       "      <th>instrumentalness</th>\n",
       "      <th>liveness</th>\n",
       "      <th>valence</th>\n",
       "      <th>...</th>\n",
       "      <th>type</th>\n",
       "      <th>id</th>\n",
       "      <th>uri</th>\n",
       "      <th>track_href</th>\n",
       "      <th>analysis_url</th>\n",
       "      <th>duration_ms</th>\n",
       "      <th>time_signature</th>\n",
       "      <th>name</th>\n",
       "      <th>playlist_id</th>\n",
       "      <th>playlist_name</th>\n",
       "    </tr>\n",
       "  </thead>\n",
       "  <tbody>\n",
       "    <tr>\n",
       "      <th>0</th>\n",
       "      <td>0.567</td>\n",
       "      <td>0.743</td>\n",
       "      <td>8</td>\n",
       "      <td>-8.614</td>\n",
       "      <td>1</td>\n",
       "      <td>0.0626</td>\n",
       "      <td>0.0356</td>\n",
       "      <td>0.847</td>\n",
       "      <td>0.221</td>\n",
       "      <td>0.423</td>\n",
       "      <td>...</td>\n",
       "      <td>audio_features</td>\n",
       "      <td>1TuopWDIuDi1553081zvuU</td>\n",
       "      <td>spotify:track:1TuopWDIuDi1553081zvuU</td>\n",
       "      <td>https://api.spotify.com/v1/tracks/1TuopWDIuDi1...</td>\n",
       "      <td>https://api.spotify.com/v1/audio-analysis/1Tuo...</td>\n",
       "      <td>212881</td>\n",
       "      <td>5</td>\n",
       "      <td>Resonance</td>\n",
       "      <td>4KunhoChStbIcMI8bprq0E</td>\n",
       "      <td>Boletus</td>\n",
       "    </tr>\n",
       "  </tbody>\n",
       "</table>\n",
       "<p>1 rows × 21 columns</p>\n",
       "</div>"
      ],
      "text/plain": [
       "   danceability  energy  key  loudness  mode  speechiness  acousticness  \\\n",
       "0         0.567   0.743    8    -8.614     1       0.0626        0.0356   \n",
       "\n",
       "   instrumentalness  liveness  valence  ...            type  \\\n",
       "0             0.847     0.221    0.423  ...  audio_features   \n",
       "\n",
       "                       id                                   uri  \\\n",
       "0  1TuopWDIuDi1553081zvuU  spotify:track:1TuopWDIuDi1553081zvuU   \n",
       "\n",
       "                                          track_href  \\\n",
       "0  https://api.spotify.com/v1/tracks/1TuopWDIuDi1...   \n",
       "\n",
       "                                        analysis_url duration_ms  \\\n",
       "0  https://api.spotify.com/v1/audio-analysis/1Tuo...      212881   \n",
       "\n",
       "   time_signature       name             playlist_id playlist_name  \n",
       "0               5  Resonance  4KunhoChStbIcMI8bprq0E       Boletus  \n",
       "\n",
       "[1 rows x 21 columns]"
      ]
     },
     "execution_count": 130,
     "metadata": {},
     "output_type": "execute_result"
    }
   ],
   "source": [
    "track_features=sp.audio_features(track_id)\n",
    "track_features[0]['name']=track_name\n",
    "track_features[0]['playlist_id']=playlist_id\n",
    "track_features[0]['playlist_name']=playlist_name\n",
    "track_features\n",
    "track_features_df=pd.DataFrame(track_features)\n",
    "track_features_df"
   ]
  },
  {
   "cell_type": "code",
   "execution_count": 147,
   "id": "e1dea3a1",
   "metadata": {},
   "outputs": [],
   "source": [
    "username=\"turgon1993\""
   ]
  },
  {
   "cell_type": "code",
   "execution_count": 148,
   "id": "c95c5839",
   "metadata": {},
   "outputs": [],
   "source": [
    "#playlist_ids=[]\n",
    "#i=0\n",
    "#while i < len(sp.user_playlists(username)['items']):\n",
    " #   playlist_id=sp.user_playlists(username)['items'][i]['id']\n",
    " #   playlist_name=sp.user_playlists(username)['items'][i]['name']\n",
    " #   playlist_ids.append(playlist_id)\n",
    " #   i+=1"
   ]
  },
  {
   "cell_type": "code",
   "execution_count": 149,
   "id": "84fe0bdf",
   "metadata": {},
   "outputs": [],
   "source": [
    "#playlist_ids\n",
    "def get_playlists(username):\n",
    "    playlist_ids=[]\n",
    "    i=0\n",
    "    while i < len(sp.user_playlists(username)['items']):\n",
    "        playlist_id=sp.user_playlists(username)['items'][i]['id']\n",
    "        playlist_ids.append(playlist_id)\n",
    "        i+=1\n",
    "    return playlist_ids"
   ]
  },
  {
   "cell_type": "code",
   "execution_count": 155,
   "id": "e9a8c298",
   "metadata": {},
   "outputs": [],
   "source": [
    "def get_features_from_playlist(playlist_id):\n",
    "    list_ft_dfs=[]\n",
    "    j=0\n",
    "    while j < len(sp.playlist_tracks(playlist_id)['items']):\n",
    "        track_name=sp.playlist_tracks(playlist_id)['items'][j]['track']['name']\n",
    "        track_id=sp.playlist_tracks(playlist_id)['items'][j]['track']['id']\n",
    "    #print(track_name)\n",
    "        track_features=sp.audio_features(track_id)\n",
    "        track_features[0]['name']=track_name\n",
    "        track_features[0]['playlist_id']=playlist_id\n",
    "        track_features_df=pd.DataFrame(track_features)\n",
    "        list_ft_dfs.append(track_features_df)\n",
    "        j+=1\n",
    "    dataset_playlist=pd.concat(list_ft_dfs)\n",
    "    return dataset_playlist"
   ]
  },
  {
   "cell_type": "code",
   "execution_count": 167,
   "id": "22530461",
   "metadata": {},
   "outputs": [],
   "source": [
    "def user_songs_dataset(username):\n",
    "    playlist_ids=get_playlists(username)\n",
    "    list_of_feat_dataframes=[]\n",
    "    counter=1\n",
    "    for ids in playlist_ids:\n",
    "        print(\"Getting tracks from playlist\",counter,\"of\",len(playlist_ids))\n",
    "        list_of_feat_dataframes.append(get_features_from_playlist(ids))\n",
    "        counter+=1\n",
    "    dataset=pd.concat(list_of_feat_dataframes)\n",
    "    return dataset"
   ]
  },
  {
   "cell_type": "code",
   "execution_count": 157,
   "id": "0b7c0fe0",
   "metadata": {},
   "outputs": [],
   "source": [
    "#get_playlists(username)"
   ]
  },
  {
   "cell_type": "code",
   "execution_count": 158,
   "id": "c59a1405",
   "metadata": {},
   "outputs": [],
   "source": [
    "#user_songs_dataset(username)"
   ]
  },
  {
   "cell_type": "markdown",
   "id": "25269c06",
   "metadata": {},
   "source": [
    "### CAUTION: The following code takes a lot of time to run!"
   ]
  },
  {
   "cell_type": "code",
   "execution_count": 169,
   "id": "568bd780",
   "metadata": {},
   "outputs": [
    {
     "name": "stdout",
     "output_type": "stream",
     "text": [
      "Getting tracks from playlist 1 of 50\n",
      "Getting tracks from playlist 2 of 50\n",
      "Getting tracks from playlist 3 of 50\n",
      "Getting tracks from playlist 4 of 50\n",
      "Getting tracks from playlist 5 of 50\n",
      "Getting tracks from playlist 6 of 50\n",
      "Getting tracks from playlist 7 of 50\n",
      "Getting tracks from playlist 8 of 50\n",
      "Getting tracks from playlist 9 of 50\n",
      "Getting tracks from playlist 10 of 50\n",
      "Getting tracks from playlist 11 of 50\n",
      "Getting tracks from playlist 12 of 50\n",
      "Getting tracks from playlist 13 of 50\n",
      "Getting tracks from playlist 14 of 50\n",
      "Getting tracks from playlist 15 of 50\n",
      "Getting tracks from playlist 16 of 50\n",
      "Getting tracks from playlist 17 of 50\n",
      "Getting tracks from playlist 18 of 50\n",
      "Getting tracks from playlist 19 of 50\n",
      "Getting tracks from playlist 20 of 50\n",
      "Getting tracks from playlist 21 of 50\n",
      "Getting tracks from playlist 22 of 50\n",
      "Getting tracks from playlist 23 of 50\n",
      "Getting tracks from playlist 24 of 50\n",
      "Getting tracks from playlist 25 of 50\n",
      "Getting tracks from playlist 26 of 50\n",
      "Getting tracks from playlist 27 of 50\n",
      "Getting tracks from playlist 28 of 50\n",
      "Getting tracks from playlist 29 of 50\n",
      "Getting tracks from playlist 30 of 50\n",
      "Getting tracks from playlist 31 of 50\n",
      "Getting tracks from playlist 32 of 50\n",
      "Getting tracks from playlist 33 of 50\n",
      "Getting tracks from playlist 34 of 50\n",
      "Getting tracks from playlist 35 of 50\n",
      "Getting tracks from playlist 36 of 50\n",
      "Getting tracks from playlist 37 of 50\n",
      "Getting tracks from playlist 38 of 50\n",
      "Getting tracks from playlist 39 of 50\n",
      "Getting tracks from playlist 40 of 50\n",
      "Getting tracks from playlist 41 of 50\n",
      "Getting tracks from playlist 42 of 50\n"
     ]
    },
    {
     "ename": "TypeError",
     "evalue": "'NoneType' object is not iterable",
     "output_type": "error",
     "traceback": [
      "\u001b[0;31m---------------------------------------------------------------------------\u001b[0m",
      "\u001b[0;31mTypeError\u001b[0m                                 Traceback (most recent call last)",
      "\u001b[0;32m<ipython-input-169-dc1f639c253c>\u001b[0m in \u001b[0;36m<module>\u001b[0;34m\u001b[0m\n\u001b[0;32m----> 1\u001b[0;31m \u001b[0muser_songs_ds\u001b[0m\u001b[0;34m=\u001b[0m\u001b[0muser_songs_dataset\u001b[0m\u001b[0;34m(\u001b[0m\u001b[0musername\u001b[0m\u001b[0;34m)\u001b[0m\u001b[0;34m\u001b[0m\u001b[0;34m\u001b[0m\u001b[0m\n\u001b[0m",
      "\u001b[0;32m<ipython-input-167-96fba97e1406>\u001b[0m in \u001b[0;36muser_songs_dataset\u001b[0;34m(username)\u001b[0m\n\u001b[1;32m      5\u001b[0m     \u001b[0;32mfor\u001b[0m \u001b[0mids\u001b[0m \u001b[0;32min\u001b[0m \u001b[0mplaylist_ids\u001b[0m\u001b[0;34m:\u001b[0m\u001b[0;34m\u001b[0m\u001b[0;34m\u001b[0m\u001b[0m\n\u001b[1;32m      6\u001b[0m         \u001b[0mprint\u001b[0m\u001b[0;34m(\u001b[0m\u001b[0;34m\"Getting tracks from playlist\"\u001b[0m\u001b[0;34m,\u001b[0m\u001b[0mcounter\u001b[0m\u001b[0;34m,\u001b[0m\u001b[0;34m\"of\"\u001b[0m\u001b[0;34m,\u001b[0m\u001b[0mlen\u001b[0m\u001b[0;34m(\u001b[0m\u001b[0mplaylist_ids\u001b[0m\u001b[0;34m)\u001b[0m\u001b[0;34m)\u001b[0m\u001b[0;34m\u001b[0m\u001b[0;34m\u001b[0m\u001b[0m\n\u001b[0;32m----> 7\u001b[0;31m         \u001b[0mlist_of_feat_dataframes\u001b[0m\u001b[0;34m.\u001b[0m\u001b[0mappend\u001b[0m\u001b[0;34m(\u001b[0m\u001b[0mget_features_from_playlist\u001b[0m\u001b[0;34m(\u001b[0m\u001b[0mids\u001b[0m\u001b[0;34m)\u001b[0m\u001b[0;34m)\u001b[0m\u001b[0;34m\u001b[0m\u001b[0;34m\u001b[0m\u001b[0m\n\u001b[0m\u001b[1;32m      8\u001b[0m         \u001b[0mcounter\u001b[0m\u001b[0;34m+=\u001b[0m\u001b[0;36m1\u001b[0m\u001b[0;34m\u001b[0m\u001b[0;34m\u001b[0m\u001b[0m\n\u001b[1;32m      9\u001b[0m     \u001b[0mdataset\u001b[0m\u001b[0;34m=\u001b[0m\u001b[0mpd\u001b[0m\u001b[0;34m.\u001b[0m\u001b[0mconcat\u001b[0m\u001b[0;34m(\u001b[0m\u001b[0mlist_of_feat_dataframes\u001b[0m\u001b[0;34m)\u001b[0m\u001b[0;34m\u001b[0m\u001b[0;34m\u001b[0m\u001b[0m\n",
      "\u001b[0;32m<ipython-input-155-5032bb732d04>\u001b[0m in \u001b[0;36mget_features_from_playlist\u001b[0;34m(playlist_id)\u001b[0m\n\u001b[1;32m      6\u001b[0m         \u001b[0mtrack_id\u001b[0m\u001b[0;34m=\u001b[0m\u001b[0msp\u001b[0m\u001b[0;34m.\u001b[0m\u001b[0mplaylist_tracks\u001b[0m\u001b[0;34m(\u001b[0m\u001b[0mplaylist_id\u001b[0m\u001b[0;34m)\u001b[0m\u001b[0;34m[\u001b[0m\u001b[0;34m'items'\u001b[0m\u001b[0;34m]\u001b[0m\u001b[0;34m[\u001b[0m\u001b[0mj\u001b[0m\u001b[0;34m]\u001b[0m\u001b[0;34m[\u001b[0m\u001b[0;34m'track'\u001b[0m\u001b[0;34m]\u001b[0m\u001b[0;34m[\u001b[0m\u001b[0;34m'id'\u001b[0m\u001b[0;34m]\u001b[0m\u001b[0;34m\u001b[0m\u001b[0;34m\u001b[0m\u001b[0m\n\u001b[1;32m      7\u001b[0m     \u001b[0;31m#print(track_name)\u001b[0m\u001b[0;34m\u001b[0m\u001b[0;34m\u001b[0m\u001b[0;34m\u001b[0m\u001b[0m\n\u001b[0;32m----> 8\u001b[0;31m         \u001b[0mtrack_features\u001b[0m\u001b[0;34m=\u001b[0m\u001b[0msp\u001b[0m\u001b[0;34m.\u001b[0m\u001b[0maudio_features\u001b[0m\u001b[0;34m(\u001b[0m\u001b[0mtrack_id\u001b[0m\u001b[0;34m)\u001b[0m\u001b[0;34m\u001b[0m\u001b[0;34m\u001b[0m\u001b[0m\n\u001b[0m\u001b[1;32m      9\u001b[0m         \u001b[0mtrack_features\u001b[0m\u001b[0;34m[\u001b[0m\u001b[0;36m0\u001b[0m\u001b[0;34m]\u001b[0m\u001b[0;34m[\u001b[0m\u001b[0;34m'name'\u001b[0m\u001b[0;34m]\u001b[0m\u001b[0;34m=\u001b[0m\u001b[0mtrack_name\u001b[0m\u001b[0;34m\u001b[0m\u001b[0;34m\u001b[0m\u001b[0m\n\u001b[1;32m     10\u001b[0m         \u001b[0mtrack_features\u001b[0m\u001b[0;34m[\u001b[0m\u001b[0;36m0\u001b[0m\u001b[0;34m]\u001b[0m\u001b[0;34m[\u001b[0m\u001b[0;34m'playlist_id'\u001b[0m\u001b[0;34m]\u001b[0m\u001b[0;34m=\u001b[0m\u001b[0mplaylist_id\u001b[0m\u001b[0;34m\u001b[0m\u001b[0;34m\u001b[0m\u001b[0m\n",
      "\u001b[0;32m/opt/anaconda3/lib/python3.8/site-packages/spotipy/client.py\u001b[0m in \u001b[0;36maudio_features\u001b[0;34m(self, tracks)\u001b[0m\n\u001b[1;32m   1680\u001b[0m             \u001b[0mresults\u001b[0m \u001b[0;34m=\u001b[0m \u001b[0mself\u001b[0m\u001b[0;34m.\u001b[0m\u001b[0m_get\u001b[0m\u001b[0;34m(\u001b[0m\u001b[0;34m\"audio-features/?ids=\"\u001b[0m \u001b[0;34m+\u001b[0m \u001b[0mtrackid\u001b[0m\u001b[0;34m)\u001b[0m\u001b[0;34m\u001b[0m\u001b[0;34m\u001b[0m\u001b[0m\n\u001b[1;32m   1681\u001b[0m         \u001b[0;32melse\u001b[0m\u001b[0;34m:\u001b[0m\u001b[0;34m\u001b[0m\u001b[0;34m\u001b[0m\u001b[0m\n\u001b[0;32m-> 1682\u001b[0;31m             \u001b[0mtlist\u001b[0m \u001b[0;34m=\u001b[0m \u001b[0;34m[\u001b[0m\u001b[0mself\u001b[0m\u001b[0;34m.\u001b[0m\u001b[0m_get_id\u001b[0m\u001b[0;34m(\u001b[0m\u001b[0;34m\"track\"\u001b[0m\u001b[0;34m,\u001b[0m \u001b[0mt\u001b[0m\u001b[0;34m)\u001b[0m \u001b[0;32mfor\u001b[0m \u001b[0mt\u001b[0m \u001b[0;32min\u001b[0m \u001b[0mtracks\u001b[0m\u001b[0;34m]\u001b[0m\u001b[0;34m\u001b[0m\u001b[0;34m\u001b[0m\u001b[0m\n\u001b[0m\u001b[1;32m   1683\u001b[0m             \u001b[0mresults\u001b[0m \u001b[0;34m=\u001b[0m \u001b[0mself\u001b[0m\u001b[0;34m.\u001b[0m\u001b[0m_get\u001b[0m\u001b[0;34m(\u001b[0m\u001b[0;34m\"audio-features/?ids=\"\u001b[0m \u001b[0;34m+\u001b[0m \u001b[0;34m\",\"\u001b[0m\u001b[0;34m.\u001b[0m\u001b[0mjoin\u001b[0m\u001b[0;34m(\u001b[0m\u001b[0mtlist\u001b[0m\u001b[0;34m)\u001b[0m\u001b[0;34m)\u001b[0m\u001b[0;34m\u001b[0m\u001b[0;34m\u001b[0m\u001b[0m\n\u001b[1;32m   1684\u001b[0m         \u001b[0;31m# the response has changed, look for the new style first, and if\u001b[0m\u001b[0;34m\u001b[0m\u001b[0;34m\u001b[0m\u001b[0;34m\u001b[0m\u001b[0m\n",
      "\u001b[0;31mTypeError\u001b[0m: 'NoneType' object is not iterable"
     ]
    }
   ],
   "source": [
    "user_songs_ds=user_songs_dataset(username)"
   ]
  },
  {
   "cell_type": "markdown",
   "id": "a04dd783",
   "metadata": {},
   "source": [
    "TypeError                                 Traceback (most recent call last)\n",
    "<ipython-input-169-dc1f639c253c> in <module>\n",
    "----> 1 user_songs_ds=user_songs_dataset(username)\n",
    "\n",
    "<ipython-input-167-96fba97e1406> in user_songs_dataset(username)\n",
    "      5     for ids in playlist_ids:\n",
    "      6         print(\"Getting tracks from playlist\",counter,\"of\",len(playlist_ids))\n",
    "----> 7         list_of_feat_dataframes.append(get_features_from_playlist(ids))\n",
    "      8         counter+=1\n",
    "      9     dataset=pd.concat(list_of_feat_dataframes)\n",
    "\n",
    "<ipython-input-155-5032bb732d04> in get_features_from_playlist(playlist_id)\n",
    "      6         track_id=sp.playlist_tracks(playlist_id)['items'][j]['track']['id']\n",
    "      7     #print(track_name)\n",
    "----> 8         track_features=sp.audio_features(track_id)\n",
    "      9         track_features[0]['name']=track_name\n",
    "     10         track_features[0]['playlist_id']=playlist_id\n",
    "\n",
    "/opt/anaconda3/lib/python3.8/site-packages/spotipy/client.py in audio_features(self, tracks)\n",
    "   1680             results = self._get(\"audio-features/?ids=\" + trackid)\n",
    "   1681         else:\n",
    "-> 1682             tlist = [self._get_id(\"track\", t) for t in tracks]\n",
    "   1683             results = self._get(\"audio-features/?ids=\" + \",\".join(tlist))\n",
    "   1684         # the response has changed, look for the new style first, and if\n",
    "\n",
    "TypeError: 'NoneType' object is not iterable"
   ]
  },
  {
   "cell_type": "code",
   "execution_count": 168,
   "id": "cb18eb4b",
   "metadata": {},
   "outputs": [
    {
     "data": {
      "text/plain": [
       "3eg1sv7mBR5m2IwyxnZE1y    3250\n",
       "Name: playlist_id, dtype: int64"
      ]
     },
     "execution_count": 168,
     "metadata": {},
     "output_type": "execute_result"
    }
   ],
   "source": [
    "user_songs_ds['playlist_id'].value_counts()"
   ]
  },
  {
   "cell_type": "code",
   "execution_count": null,
   "id": "e0107501",
   "metadata": {},
   "outputs": [],
   "source": []
  }
 ],
 "metadata": {
  "kernelspec": {
   "display_name": "Python 3",
   "language": "python",
   "name": "python3"
  },
  "language_info": {
   "codemirror_mode": {
    "name": "ipython",
    "version": 3
   },
   "file_extension": ".py",
   "mimetype": "text/x-python",
   "name": "python",
   "nbconvert_exporter": "python",
   "pygments_lexer": "ipython3",
   "version": "3.8.8"
  }
 },
 "nbformat": 4,
 "nbformat_minor": 5
}
